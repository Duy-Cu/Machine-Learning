{
 "cells": [
  {
   "cell_type": "markdown",
   "metadata": {},
   "source": [
    "## Finding the Statistics Percentile , Range , Quartiles"
   ]
  },
  {
   "cell_type": "markdown",
   "metadata": {},
   "source": [
    "### Import file"
   ]
  },
  {
   "cell_type": "code",
   "execution_count": 1,
   "metadata": {},
   "outputs": [
    {
     "data": {
      "text/html": [
       "<div>\n",
       "<style scoped>\n",
       "    .dataframe tbody tr th:only-of-type {\n",
       "        vertical-align: middle;\n",
       "    }\n",
       "\n",
       "    .dataframe tbody tr th {\n",
       "        vertical-align: top;\n",
       "    }\n",
       "\n",
       "    .dataframe thead th {\n",
       "        text-align: right;\n",
       "    }\n",
       "</style>\n",
       "<table border=\"1\" class=\"dataframe\">\n",
       "  <thead>\n",
       "    <tr style=\"text-align: right;\">\n",
       "      <th></th>\n",
       "      <th>Year</th>\n",
       "      <th>Cheese Consumption (Pounds)</th>\n",
       "      <th>Degrees Awarded</th>\n",
       "    </tr>\n",
       "  </thead>\n",
       "  <tbody>\n",
       "    <tr>\n",
       "      <th>0</th>\n",
       "      <td>2000</td>\n",
       "      <td>9.3</td>\n",
       "      <td>480</td>\n",
       "    </tr>\n",
       "    <tr>\n",
       "      <th>1</th>\n",
       "      <td>2001</td>\n",
       "      <td>9.7</td>\n",
       "      <td>501</td>\n",
       "    </tr>\n",
       "    <tr>\n",
       "      <th>2</th>\n",
       "      <td>2002</td>\n",
       "      <td>9.7</td>\n",
       "      <td>540</td>\n",
       "    </tr>\n",
       "    <tr>\n",
       "      <th>3</th>\n",
       "      <td>2004</td>\n",
       "      <td>9.9</td>\n",
       "      <td>547</td>\n",
       "    </tr>\n",
       "    <tr>\n",
       "      <th>4</th>\n",
       "      <td>2003</td>\n",
       "      <td>9.7</td>\n",
       "      <td>552</td>\n",
       "    </tr>\n",
       "  </tbody>\n",
       "</table>\n",
       "</div>"
      ],
      "text/plain": [
       "   Year  Cheese Consumption (Pounds)  Degrees Awarded\n",
       "0  2000                          9.3              480\n",
       "1  2001                          9.7              501\n",
       "2  2002                          9.7              540\n",
       "3  2004                          9.9              547\n",
       "4  2003                          9.7              552"
      ]
     },
     "execution_count": 1,
     "metadata": {},
     "output_type": "execute_result"
    }
   ],
   "source": [
    "import numpy as np\n",
    "import pandas as pd\n",
    "\n",
    "df = pd.read_csv('HW1_data.csv')\n",
    "df.head()"
   ]
  },
  {
   "cell_type": "markdown",
   "metadata": {},
   "source": [
    "### Seperating column for analysis"
   ]
  },
  {
   "cell_type": "code",
   "execution_count": 2,
   "metadata": {},
   "outputs": [
    {
     "data": {
      "text/plain": [
       "0    480\n",
       "1    501\n",
       "2    540\n",
       "3    547\n",
       "4    552\n",
       "5    622\n",
       "6    655\n",
       "7    701\n",
       "8    708\n",
       "9    712\n",
       "Name: Degrees Awarded, dtype: int64"
      ]
     },
     "execution_count": 2,
     "metadata": {},
     "output_type": "execute_result"
    }
   ],
   "source": [
    "cheese_consumpt = df['Cheese Consumption (Pounds)']\n",
    "degrees_awarded = df['Degrees Awarded']\n",
    "from IPython.core.interactiveshell import InteractiveShell\n",
    "InteractiveShell.ast_node_interactivity = \"all\"\n",
    "\n",
    "cheese_consumpt\n",
    "degrees_awarded"
   ]
  },
  {
   "cell_type": "markdown",
   "metadata": {},
   "source": [
    "### Calculating the Q1, Q3, IQR for Cheese Consumption & Degrees awarded"
   ]
  },
  {
   "cell_type": "code",
   "execution_count": 3,
   "metadata": {},
   "outputs": [
    {
     "data": {
      "text/plain": [
       "(10.05, 9.7, 10.6)"
      ]
     },
     "execution_count": 3,
     "metadata": {},
     "output_type": "execute_result"
    },
    {
     "data": {
      "text/plain": [
       "(587.0, 540.0, 701.0)"
      ]
     },
     "execution_count": 3,
     "metadata": {},
     "output_type": "execute_result"
    }
   ],
   "source": [
    "# for Cheese Consumption\n",
    "median_cc = np.median(cheese_consumpt)\n",
    "Q1_cc = np.median(cheese_consumpt[:5])\n",
    "Q3_cc = np.median(cheese_consumpt[5:])\n",
    "\n",
    "# for Degrees Awarded\n",
    "median_da = np.median(degrees_awarded)\n",
    "Q1_da = np.median(degrees_awarded[:5])\n",
    "Q3_da = np.median(degrees_awarded[5:])\n",
    "\n",
    "median_cc, Q1_cc, Q3_cc\n",
    "median_da, Q1_da, Q3_da"
   ]
  },
  {
   "cell_type": "markdown",
   "metadata": {},
   "source": [
    "### Calculating the outliers range [Q1 - k\\*IQR  ,  Q3 + k\\*IQR]"
   ]
  },
  {
   "cell_type": "code",
   "execution_count": 4,
   "metadata": {},
   "outputs": [
    {
     "data": {
      "text/plain": [
       "[8.35, 11.95]"
      ]
     },
     "execution_count": 4,
     "metadata": {},
     "output_type": "execute_result"
    },
    {
     "data": {
      "text/plain": [
       "(298.5, 942.5)"
      ]
     },
     "execution_count": 4,
     "metadata": {},
     "output_type": "execute_result"
    }
   ],
   "source": [
    "k = 1.5\n",
    "\n",
    "# for Cheese Consumption\n",
    "IQR_cc = Q3_cc - Q1_cc\n",
    "outliers_cc = [Q1_cc - k*IQR_cc, Q3_cc + k*IQR_cc]\n",
    "# need to round values\n",
    "outliers_cc = [\n",
    "    round(num, 2) \n",
    "    for num in outliers_cc\n",
    "]\n",
    "\n",
    "# for Degrees Awarded\n",
    "IQR_da = Q3_da - Q1_da\n",
    "outliers_da = (Q1_da - k*IQR_da, Q3_da + k*IQR_da)\n",
    "\n",
    "outliers_cc\n",
    "outliers_da"
   ]
  },
  {
   "cell_type": "markdown",
   "metadata": {},
   "source": [
    "### Find Correlation coefficient"
   ]
  },
  {
   "cell_type": "code",
   "execution_count": 5,
   "metadata": {},
   "outputs": [
    {
     "data": {
      "text/plain": [
       "10.12"
      ]
     },
     "execution_count": 5,
     "metadata": {},
     "output_type": "execute_result"
    },
    {
     "data": {
      "text/plain": [
       "601.8"
      ]
     },
     "execution_count": 5,
     "metadata": {},
     "output_type": "execute_result"
    }
   ],
   "source": [
    "# Calculatin the mean\n",
    "mean_cc = cheese_consumpt.mean()\n",
    "mean_da = degrees_awarded.mean()\n",
    "\n",
    "mean_cc\n",
    "mean_da"
   ]
  },
  {
   "cell_type": "code",
   "execution_count": 10,
   "metadata": {},
   "outputs": [
    {
     "data": {
      "text/plain": [
       "0.9586477872804797"
      ]
     },
     "execution_count": 10,
     "metadata": {},
     "output_type": "execute_result"
    }
   ],
   "source": [
    "num = 0\n",
    "for index in range(len(degrees_awarded)):\n",
    "    num += ((cheese_consumpt[index] - mean_cc)*(degrees_awarded[index] - mean_da))\n",
    "#     print(round(num, 3))\n",
    "  \n",
    "    \n",
    "den1 = 0\n",
    "for index in range(len(degrees_awarded)):\n",
    "    den1 += np.square(cheese_consumpt[index] - mean_cc)\n",
    "#     print(round(den1, 3))\n",
    "    \n",
    "den1 = np.sqrt(den1)\n",
    "\n",
    "\n",
    "den2 = 0\n",
    "for index in range(len(degrees_awarded)):\n",
    "    den2 += np.square(degrees_awarded[index] - mean_da)\n",
    "#     print(round(den2, 3))\n",
    "    \n",
    "den2 = np.sqrt(den2)\n",
    "\n",
    "\n",
    "corr_value = num/(den1*den2)\n",
    "corr_value"
   ]
  },
  {
   "cell_type": "code",
   "execution_count": null,
   "metadata": {},
   "outputs": [],
   "source": []
  }
 ],
 "metadata": {
  "kernelspec": {
   "display_name": "EE257_env",
   "language": "python",
   "name": "ee257_env"
  },
  "language_info": {
   "codemirror_mode": {
    "name": "ipython",
    "version": 3
   },
   "file_extension": ".py",
   "mimetype": "text/x-python",
   "name": "python",
   "nbconvert_exporter": "python",
   "pygments_lexer": "ipython3",
   "version": "3.9.5"
  },
  "toc": {
   "base_numbering": 1,
   "nav_menu": {},
   "number_sections": true,
   "sideBar": true,
   "skip_h1_title": false,
   "title_cell": "Table of Contents",
   "title_sidebar": "Contents",
   "toc_cell": false,
   "toc_position": {
    "height": "calc(100% - 180px)",
    "left": "10px",
    "top": "150px",
    "width": "307.2px"
   },
   "toc_section_display": true,
   "toc_window_display": true
  },
  "varInspector": {
   "cols": {
    "lenName": 16,
    "lenType": 16,
    "lenVar": 40
   },
   "kernels_config": {
    "python": {
     "delete_cmd_postfix": "",
     "delete_cmd_prefix": "del ",
     "library": "var_list.py",
     "varRefreshCmd": "print(var_dic_list())"
    },
    "r": {
     "delete_cmd_postfix": ") ",
     "delete_cmd_prefix": "rm(",
     "library": "var_list.r",
     "varRefreshCmd": "cat(var_dic_list()) "
    }
   },
   "types_to_exclude": [
    "module",
    "function",
    "builtin_function_or_method",
    "instance",
    "_Feature"
   ],
   "window_display": false
  }
 },
 "nbformat": 4,
 "nbformat_minor": 4
}
